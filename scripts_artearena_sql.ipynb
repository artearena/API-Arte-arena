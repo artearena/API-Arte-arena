{
 "cells": [
  {
   "cell_type": "code",
   "execution_count": null,
   "metadata": {},
   "outputs": [
    {
     "name": "stdout",
     "output_type": "stream",
     "text": [
      "Ocorreu um erro durante a solicitação: 400 Client Error: Bad Request for url: https://api.trello.com/1/webhooks/?callbackURL=https%3A%2F%2Fbd08-191-162-253-229.ngrok-free.app%2Fwebhook&idModel=645d11919349f344ad96d4ba&key=82fbbfa646064873d7f742d12c2b3f28&token=ATTA96d4de928b043159b73889c1bfe1c1d716e6ca7a03d558a966b4ec97e4bc8c3e55BD66EB\n"
     ]
    }
   ],
   "source": [
    "\n",
    "import requests\n",
    "\n",
    "url = 'https://api.trello.com/1/webhooks/'\n",
    "params = {\n",
    "    'callbackURL': 'sqlhelper.com.br/webhook',  # Substitua pela sua URL de callback\n",
    "    'idModel': '645d11919349f344ad96d4ba',  # Substitua pelo ID do modelo que deseja monitorar\n",
    "    'key': '82fbbfa646064873d7f742d12c2b3f28',  # Substitua pela sua chave de API do Trello\n",
    "    'token': 'ATTA96d4de928b043159b73889c1bfe1c1d716e6ca7a03d558a966b4ec97e4bc8c3e55BD66EB',  # Substitua pelo seu token de API do Trello\n",
    "}\n",
    "\n",
    "try:\n",
    "    response = requests.post(url, params=params)\n",
    "    response.raise_for_status()  # Lança uma exceção se a resposta contém um código de status de erro\n",
    "\n",
    "    if response.status_code == 200:\n",
    "        print(\"Webhook criado com sucesso!\")\n",
    "    else:\n",
    "        print(\"Falha ao criar o webhook. Código de status:\", response.status_code)\n",
    "\n",
    "except requests.exceptions.RequestException as e:\n",
    "    print(\"Ocorreu um erro durante a solicitação:\", str(e))\n"
   ]
  },
  {
   "cell_type": "code",
   "execution_count": null,
   "metadata": {},
   "outputs": [
    {
     "name": "stdout",
     "output_type": "stream",
     "text": [
      "Total de registros inseridos: 3670\n"
     ]
    }
   ],
   "source": [
    "import requests\n",
    "import pymysql\n",
    "\n",
    "url = \"https://api.tiny.com.br/api2/produtos.pesquisa.php\"\n",
    "token = \"bc3cdea243d8687963fa642580057531456d34fa\"\n",
    "produtos_totais = []\n",
    "registros_inseridos = 0\n",
    "\n",
    "for pagina in range(1, 38):\n",
    "    params = {\n",
    "        \"token\": token,\n",
    "        \"formato\": \"json\",\n",
    "        \"pesquisa\": \"\",\n",
    "        \"pagina\": pagina\n",
    "    }\n",
    "\n",
    "    response = requests.get(url, params=params)\n",
    "    data = response.json()\n",
    "\n",
    "    # Processar a resposta (data) conforme necessário\n",
    "    # ...\n",
    "\n",
    "    produtos_pagina = data['retorno']['produtos']\n",
    "    produtos_totais.extend(produtos_pagina)\n",
    "\n",
    "# Conectar ao banco de dados MySQL usando PyMySQL\n",
    "conn = pymysql.connect(\n",
    "    host='mysql.sqlhelper.com.br',\n",
    "    user='sqlhelper01',\n",
    "    password='140477nagy',\n",
    "    database='sqlhelper01'\n",
    ")\n",
    "cursor = conn.cursor()\n",
    "\n",
    "# Executar as instruções SQL no banco de dados e contar os registros inseridos\n",
    "for produto in produtos_totais:\n",
    "    produto_info = produto['produto']\n",
    "    sql_insert = \"INSERT INTO produtos (id, data_criacao, nome, codigo, preco, preco_promocional, unidade, gtin, tipoVariacao, localizacao, preco_custo, preco_custo_medio, situacao) \"\n",
    "    sql_insert += \"VALUES ('\" + produto_info['id'] + \"', STR_TO_DATE('\" + produto_info['data_criacao'] + \"', '%d/%m/%Y %H:%i:%s'), \"\n",
    "    sql_insert += \"'\" + produto_info['nome'] + \"', '\" + produto_info['codigo'] + \"', \" + str(produto_info['preco']) + \", \" + str(produto_info['preco_promocional']) + \", \"\n",
    "    sql_insert += \"'\" + produto_info['unidade'] + \"', '\" + produto_info['gtin'] + \"', '\" + produto_info['tipoVariacao'] + \"', '\" + produto_info['localizacao'] + \"', \"\n",
    "    sql_insert += str(produto_info['preco_custo']) + \", \" + str(produto_info['preco_custo_medio']) + \", '\" + produto_info['situacao'] + \"');\"\n",
    "\n",
    "    try:\n",
    "        cursor.execute(sql_insert)\n",
    "        registros_inseridos += 1\n",
    "    except pymysql.Error as e:\n",
    "        print(f\"Erro ao inserir registro: {e}\")\n",
    "\n",
    "# Confirmar as alterações no banco de dados\n",
    "conn.commit()\n",
    "\n",
    "# Fechar a conexão com o banco de dados\n",
    "cursor.close()\n",
    "conn.close()\n",
    "\n",
    "# Exibir o número de registros inseridos\n",
    "print(f\"Total de registros inseridos: {registros_inseridos}\")\n"
   ]
  },
  {
   "cell_type": "code",
   "execution_count": null,
   "metadata": {},
   "outputs": [],
   "source": [
    "\n",
    "for produto in produtos_totais:\n",
    "    produto_info = produto['produto']\n",
    "    linha = f\"ID: {produto_info['id']}, Nome: {produto_info['nome']}, Código: {produto_info['codigo']}, Preço: {produto_info['preco']}, Situação: {produto_info['situacao']}\"\n",
    "    print(linha)\n",
    "print(f\"Total de linhas: {contador}\")\n"
   ]
  },
  {
   "cell_type": "code",
   "execution_count": 13,
   "metadata": {},
   "outputs": [
    {
     "name": "stdout",
     "output_type": "stream",
     "text": [
      "Data inserted successfully.\n"
     ]
    },
    {
     "name": "stderr",
     "output_type": "stream",
     "text": [
      "C:\\Users\\Administrator\\AppData\\Local\\Temp\\ipykernel_7560\\356040108.py:30: SettingWithCopyWarning: \n",
      "A value is trying to be set on a copy of a slice from a DataFrame\n",
      "\n",
      "See the caveats in the documentation: https://pandas.pydata.org/pandas-docs/stable/user_guide/indexing.html#returning-a-view-versus-a-copy\n",
      "  new_data.drop_duplicates(subset=id_column_name, keep='first', inplace=True)\n"
     ]
    }
   ],
   "source": [
    "import pandas as pd\n",
    "from sqlalchemy import create_engine\n",
    "\n",
    "# Read the Excel file into a pandas DataFrame\n",
    "planilha = pd.read_excel('C:\\\\Users\\\\Administrator\\\\Documents\\\\GitHub\\\\API-Arte-arena\\\\arquivos\\\\Book1.xlsx')\n",
    "\n",
    "# Define the database connection parameters\n",
    "endereco_banco_dados = 'mysql.sqlhelper.com.br'\n",
    "usuario = 'sqlhelper01'\n",
    "senha = '140477nagy'\n",
    "nome_banco_dados = 'sqlhelper01'\n",
    "\n",
    "# Create the SQLAlchemy engine\n",
    "engine = create_engine(f'mysql+pymysql://{usuario}:{senha}@{endereco_banco_dados}/{nome_banco_dados}')\n",
    "\n",
    "# Define the table name to insert data\n",
    "nome_tabela = 'pedidos'\n",
    "\n",
    "# Assuming the 'id' column is named 'id' in your DataFrame\n",
    "id_column_name = 'id'\n",
    "\n",
    "# Fetching the existing ids from the database to check for duplicates\n",
    "existing_ids_query = f\"SELECT {id_column_name} FROM {nome_tabela};\"\n",
    "existing_ids = pd.read_sql_query(existing_ids_query, con=engine)\n",
    "\n",
    "# Filtering out the rows that have existing ids in the DataFrame\n",
    "new_data = planilha[~planilha[id_column_name].isin(existing_ids[id_column_name])]\n",
    "\n",
    "# Remove duplicates from the DataFrame based on the 'id' column\n",
    "new_data.drop_duplicates(subset=id_column_name, keep='first', inplace=True)\n",
    "\n",
    "# Inserting the new data into the database\n",
    "if not new_data.empty:\n",
    "    new_data.to_sql(nome_tabela, con=engine, if_exists='append', index=False)\n",
    "\n",
    "print(\"Data inserted successfully.\")\n"
   ]
  }
 ],
 "metadata": {
  "kernelspec": {
   "display_name": "Python 3",
   "language": "python",
   "name": "python3"
  },
  "language_info": {
   "codemirror_mode": {
    "name": "ipython",
    "version": 3
   },
   "file_extension": ".py",
   "mimetype": "text/x-python",
   "name": "python",
   "nbconvert_exporter": "python",
   "pygments_lexer": "ipython3",
   "version": "3.11.4"
  },
  "orig_nbformat": 4
 },
 "nbformat": 4,
 "nbformat_minor": 2
}
